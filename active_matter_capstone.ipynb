{
  "cells": [
    {
      "cell_type": "markdown",
      "metadata": {
        "id": "JSj0H353c_3_"
      },
      "source": [
        "# Base class"
      ]
    },
    {
      "cell_type": "code",
      "execution_count": null,
      "metadata": {
        "id": "WLbMKzLgshZY"
      },
      "outputs": [],
      "source": [
        "import numpy as np\n",
        "import random\n",
        "import matplotlib.pyplot as plt\n",
        "import matplotlib.animation as animation\n",
        "import tqdm\n",
        "from datetime import datetime\n",
        "\n",
        "class simulation():\n",
        "  def __init__(self,params):\n",
        "    self.box_length = params['box_length']\n",
        "    self.num_particles = params['num_particles']\n",
        "    self.num_steps = params['num_steps']\n",
        "    self.len_time_step = params['len_time_step']\n",
        "    self.disk_radius = params['disk_radius']\n",
        "    self.f_active = params['f_active']\n",
        "    self.diffusion = params['diffusion']\n",
        "    self.rot_diffusion = params['rot_diffusion']\n",
        "    self.frame_length_multiplier = params['frame_length_multiplier']\n",
        "    self.scanning_length = 0\n",
        "\n",
        "    self.B = np.sqrt(2 * self.diffusion)\n",
        "    self.C = np.sqrt(2 * self.rot_diffusion * self.len_time_step)\n",
        "\n",
        "    self.positions_init = np.random.uniform(0,self.box_length,(self.num_particles,2))\n",
        "    self.angles_init = np.random.uniform(0,2 * np.pi,(self.num_particles,1))\n",
        "\n",
        "    self.particle_velocities = []\n",
        "\n",
        "  def step(self,positions,angles):\n",
        "    xi = np.random.normal(0,1,(self.num_particles,2))\n",
        "    xi_r = np.random.normal(0,1,(self.num_particles,1))\n",
        "\n",
        "    drive = self.f_active * np.hstack((np.cos(angles),np.sin(angles)))\n",
        "    repulsion = self.calc_repulsion(positions)\n",
        "\n",
        "    dr = ((repulsion + drive) + self.B * xi )* self.len_time_step\n",
        "    self.velocity = dr\n",
        "    d_angles = self.C * xi_r\n",
        "\n",
        "    new_positions = (positions + dr) % self.box_length\n",
        "    new_angles = (angles + d_angles)\n",
        "\n",
        "    return new_positions, new_angles\n",
        "\n",
        "  def simulate(self): # done\n",
        "    record = []\n",
        "    positions = self.positions_init\n",
        "    angles = self.angles_init\n",
        "\n",
        "    loading_bar = tqdm.tqdm(total=self.num_steps, desc='simulation progress', position=0)\n",
        "\n",
        "    for i in range(self.num_steps):\n",
        "      record.append(positions)\n",
        "      [positions,angles] = self.step(positions,angles)\n",
        "      loading_bar.update(1)\n",
        "    return record\n",
        "\n",
        "  def animate(self):\n",
        "    self.run()\n",
        "\n",
        "    fig, ax = plt.subplots(figsize = (self.box_length, self.box_length))\n",
        "    ax.set(xlim=[0, self.box_length], ylim=[0, self.box_length])\n",
        "    ax.set_aspect('equal')\n",
        "    self.fig_size = fig.get_size_inches() * fig.dpi\n",
        "\n",
        "    self.scat = ax.scatter(self.record[0][:,0],self.record[0][:,1],s=self.rectify_radius(self.disk_radius, self.box_length), color = \"lightgreen\", edgecolor = \"black\")\n",
        "\n",
        "    ani = animation.FuncAnimation(fig=fig,func=self.update_frame,frames = self.num_steps,interval=self.len_time_step*1000 * self.frame_length_multiplier)\n",
        "\n",
        "    now = datetime.now()\n",
        "    timestr = now.strftime(\"%Y-%m-%d %H:%M:%S\")\n",
        "    ani.save(f'{type(self).__name__} {timestr}.mp4')\n",
        "\n",
        "  def rectify_radius(self,particleradius, boxlength):\n",
        "      scaledradius = particleradius * (int(self.fig_size[0]) / boxlength)\n",
        "      s_value = 0.4 * np.pi * scaledradius**2\n",
        "      return s_value\n",
        "\n",
        "  def update_frame(self,frame):\n",
        "      data = self.record[frame]\n",
        "      data = np.stack([data[:,0],data[:,1]]).T\n",
        "      self.scat.set_offsets(data)\n",
        "      return self.scat\n",
        "\n",
        "  def calc_repulsion(self, positions):\n",
        "    LM = positions[positions[:, 0] > (self.box_length - self.scanning_length)] - np.array([self.box_length, 0])\n",
        "    RM = positions[positions[:, 0] < self.scanning_length] + np.array([self.box_length, 0])\n",
        "    MD = positions[positions[:, 1] > (self.box_length - self.scanning_length)] - np.array([0, self.box_length])\n",
        "    MU = positions[positions[:, 1] < 2 * self.scanning_length] + np.array([0, self.box_length])\n",
        "\n",
        "    mirror_positions = np.vstack((positions, MD, LM, RM, MU))\n",
        "    diff = positions[:, None, :] - mirror_positions[None, :, :]\n",
        "    distances = np.linalg.norm(diff, axis=2)\n",
        "\n",
        "    #Stops 0 error\n",
        "    distances = np.maximum(distances, 1e-6)\n",
        "    within_range = distances < self.scanning_length\n",
        "\n",
        "    #What optimizes\n",
        "    rep_magnitudes = np.zeros_like(distances)\n",
        "    rep_magnitudes[within_range] = self.repulsion_magnitude(distances[within_range])\n",
        "    normalized_diff = diff / distances[..., None]\n",
        "    repulsion = np.sum(rep_magnitudes[..., None] * normalized_diff, axis=1)\n",
        "    return repulsion\n",
        "\n",
        "  def repulsion_magnitude(self,r):\n",
        "    return 0\n",
        "\n",
        "  def run(self):\n",
        "    self.record = self.simulate()\n",
        "\n",
        "  def graph_bond_order(self):\n",
        "    record = self.record\n",
        "    bond_record = np.zeros(self.num_steps)\n",
        "    bond_record_individual = []\n",
        "    n_crystallized = np.zeros(self.num_steps)\n",
        "    crystal_threshold = 0.8\n",
        "\n",
        "    loading_bar1 = tqdm.tqdm(total=self.num_steps, desc='graph progress', position=0)\n",
        "    for i in range(self.num_steps):\n",
        "      psi6,q6 = self.calc_bond_order(record[i])\n",
        "      bond_record[i] = psi6\n",
        "      bond_record_individual.append(q6)\n",
        "      n_crystallized[i] = np.count_nonzero(q6 > crystal_threshold)\n",
        "      loading_bar1.update(1)\n",
        "\n",
        "    fig,ax = plt.subplots()\n",
        "    ax.plot(range(self.num_steps),bond_record)\n",
        "    ax.set_title('global bond orientation order')\n",
        "    ax.set_ylabel('$\\psi_6$')\n",
        "    ax.set_xlabel('time step')\n",
        "\n",
        "    fig1,ax1 = plt.subplots()\n",
        "    ax1.hist(bond_record_individual[-1],bins=30)\n",
        "    ax1.set_title(f'crystallization at t = {self.num_steps}')\n",
        "    ax1.set_xlabel('bond orientation order')\n",
        "    ax1.set_ylabel('frequency')\n",
        "\n",
        "    fig2,ax2 = plt.subplots()\n",
        "    ax2.plot(range(self.num_steps),n_crystallized)\n",
        "    ax2.set_title(f'particles with bond order > {crystal_threshold}')\n",
        "    ax2.set_xlabel('time step')\n",
        "    ax2.set_ylabel('number of particles')\n",
        "\n",
        "  def calc_bond_order(self,positions):\n",
        "    q6 = np.zeros(self.num_particles,dtype=np.complex128)\n",
        "\n",
        "    for i in range(self.num_particles):\n",
        "        diff = positions - positions[i]\n",
        "        distances = np.linalg.norm(diff, axis=1)\n",
        "        neighbors_idx = np.argsort(distances)[1:7]\n",
        "        bond_angles = np.arctan2(diff[neighbors_idx, 1], diff[neighbors_idx, 0])\n",
        "        q6[i] = np.mean(np.exp(1j * 6 * bond_angles))\n",
        "        psi6 = np.abs(np.mean(q6))**2\n",
        "    return psi6, np.abs(q6)\n",
        "\n",
        "  def make_velocity_plots(self):\n",
        "    square_speeds = [np.sum(self.particle_velocities[i] **2,axis=1) for i in range(10,self.num_steps)]\n",
        "    avg_sq_speed = np.sum(square_speeds,axis=1)/self.num_particles\n",
        "\n",
        "    fig,ax = plt.subplots()\n",
        "    ax.plot(range(10,self.num_steps),avg_sq_speed)\n",
        "    ax.set(ylim=[0, 2*np.mean(avg_sq_speed)]) # do labeling things\n",
        "    ax.set_title('Mean squared velocity')\n",
        "    ax.set_xlabel('time step')\n",
        "\n",
        "    fig1,ax1 = plt.subplots()\n",
        "    ax1.hist(square_speeds[-1]**0.5,bins=30)\n",
        "    ax1.set_title(f'speed distribution at t = {self.num_steps}')\n",
        "    ax1.set_xlabel('speed')\n",
        "    ax1.set_ylabel('frequency')\n",
        "\n",
        "###\n",
        "\n",
        "class contact_simulation(simulation):\n",
        "  def __init__(self,params):\n",
        "    super().__init__(params)\n",
        "    self.scanning_length = 2 * self.disk_radius\n",
        "    self.k = params['k']\n",
        "\n",
        "  def repulsion_magnitude(self,r):\n",
        "      return self.k * (2*self.disk_radius - r)\n",
        "\n",
        "class yukawa_simulation(simulation):\n",
        "  def __init__(self,params):\n",
        "    super().__init__(params)\n",
        "    self.Gamma = params['Gamma']\n",
        "    self.Lambda = params['Lambda']\n",
        "    self.scanning_length = 7 / self.Lambda\n",
        "  def repulsion_magnitude(self, r):\n",
        "      return (self.Gamma * np.exp(-self.Lambda * r) / r**2 ) + (self.Gamma * self.Lambda * np.exp(-self.Lambda * r)/r)"
      ]
    },
    {
      "cell_type": "markdown",
      "metadata": {
        "id": "FDmElLzudI71"
      },
      "source": [
        "# just animation"
      ]
    },
    {
      "cell_type": "code",
      "execution_count": null,
      "metadata": {
        "id": "xzjNLQAyIKaP"
      },
      "outputs": [],
      "source": [
        "params = {'box_length':20,'num_particles':200,'num_steps':500,'len_time_step':1e-3,'disk_radius':0.5,'k':100,'f_active':7,'diffusion':3,'rot_diffusion':3,'frame_length_multiplier':3}\n",
        "\n",
        "sim = contact_simulation(params)\n",
        "sim.animate()"
      ]
    },
    {
      "cell_type": "code",
      "execution_count": null,
      "metadata": {
        "id": "p5aKCm0QETLp"
      },
      "outputs": [],
      "source": [
        "params = {'box_length':20,'num_particles':400,'num_steps':300,'len_time_step':1e-4,'disk_radius':0.35,'f_active':15,'diffusion':3.5,'rot_diffusion':3.5,'Gamma':500,'Lambda':3.5,'frame_length_multiplier':100}\n",
        "\n",
        "ysim = yukawa_simulation(params)\n",
        "ysim.animate()"
      ]
    },
    {
      "cell_type": "code",
      "source": [
        "params = {'box_length':20,'num_particles':400,'num_steps':300,'len_time_step':1e-4,'disk_radius':0.35,'f_active':15,'diffusion':3.5,'rot_diffusion':3.5,'Gamma':500,'Lambda':3.5,'frame_length_multiplier':100}\n",
        "\n",
        "class yukawa_simulation(simulation):\n",
        "  def __init__(self,params):\n",
        "    super().__init__(params)\n",
        "    self.Gamma = params['Gamma']\n",
        "    self.Lambda = params['Lambda']\n",
        "    self.scanning_length = 7 / self.Lambda\n",
        "  def repulsion_magnitude(self, r):\n",
        "      return (self.Gamma * np.exp(-self.Lambda * r) / r**2 ) + (self.Gamma * self.Lambda * np.exp(-self.Lambda * r)/r)"
      ],
      "metadata": {
        "id": "QtdLgJw5HmY1"
      },
      "execution_count": null,
      "outputs": []
    },
    {
      "cell_type": "markdown",
      "metadata": {
        "id": "BYBJJ6AudL3E"
      },
      "source": [
        "# entropic force"
      ]
    },
    {
      "cell_type": "code",
      "execution_count": null,
      "metadata": {
        "id": "sjKT7wXvFXSB"
      },
      "outputs": [],
      "source": [
        "class entropic_force_simulation(simulation):\n",
        "  def __init__(self,params):\n",
        "    super().__init__(params)\n",
        "    self.positions_init = np.full((self.num_particles,2),self.box_length / 2) # all start in the middle\n",
        "    self.scanning_length = 0\n",
        "\n",
        "  def avg_radius(self):\n",
        "    avg_radius = np.zeros(self.num_steps)\n",
        "    for i in range(self.num_steps):\n",
        "      avg_radius[i] = np.mean(np.sqrt(np.sum((self.record[i]-self.positions_init)**2,axis=1)))\n",
        "\n",
        "    fig,ax = plt.subplots()\n",
        "    ax.plot(range(self.num_steps),avg_radius)\n",
        "    ax.set_title('average particle radius from center')\n",
        "\n",
        "params = {'box_length':20,'num_particles':100,'num_steps':1000,'len_time_step':1e-3,'disk_radius':0.35,'f_active':0,'diffusion':10000,'rot_diffusion':3,'frame_length_multiplier':50}\n",
        "\n",
        "esim = entropic_force_simulation(params)\n",
        "esim.animate()\n",
        "esim.avg_radius()"
      ]
    },
    {
      "cell_type": "markdown",
      "metadata": {
        "id": "omWYAPzOdWMW"
      },
      "source": [
        "# bond orientation order"
      ]
    },
    {
      "cell_type": "code",
      "execution_count": null,
      "metadata": {
        "id": "h6RpIiZTJPBd"
      },
      "outputs": [],
      "source": [
        "params = {'box_length':20,'num_particles':400,'num_steps':2000,'len_time_step':1e-4,'disk_radius':0.35,'f_active':7,'diffusion':3.5,'rot_diffusion':3.5,'Gamma':500,'Lambda':3.5,'frame_length_multiplier':100}\n",
        "\n",
        "ygsim = yukawa_simulation(params)\n",
        "ygsim.run()\n",
        "ygsim.graph_bond_order()"
      ]
    },
    {
      "cell_type": "code",
      "execution_count": null,
      "metadata": {
        "id": "GjCn98qGYVV9"
      },
      "outputs": [],
      "source": [
        "params = {'box_length':30,'num_particles':800,'num_steps':2000,'len_time_step':5e-4,'disk_radius':0.5,'k':600,'f_active':20,'diffusion':3,'rot_diffusion':3,'frame_length_multiplier':50}\n",
        "\n",
        "sim = contact_simulation(params)\n",
        "sim.animate()\n",
        "sim.graph_bond_order()"
      ]
    },
    {
      "cell_type": "code",
      "execution_count": null,
      "metadata": {
        "id": "fj75B7S5mbKy"
      },
      "outputs": [],
      "source": [
        "# control\n",
        "\n",
        "params = {'box_length':15,'num_particles':200,'num_steps':500,'len_time_step':1e-3,'disk_radius':0.5,'k':100,'f_active':7,'diffusion':3,'rot_diffusion':3,'frame_length_multiplier':3}\n",
        "\n",
        "sim = simulation(params)\n",
        "sim.run()\n",
        "sim.graph_bond_order()"
      ]
    },
    {
      "cell_type": "markdown",
      "metadata": {
        "id": "T-qMtKd1o-gL"
      },
      "source": [
        "# velocity"
      ]
    },
    {
      "cell_type": "code",
      "execution_count": null,
      "metadata": {
        "colab": {
          "background_save": true
        },
        "id": "Bj_kZBtUNA-v"
      },
      "outputs": [],
      "source": [
        "class contact_velocity_graphing(contact_simulation):\n",
        "  def __init__(self,params):\n",
        "    super().__init__(params)\n",
        "    self.particle_velocities = [] # M x (n x 2)\n",
        "\n",
        "  def step(self,positions,angles):\n",
        "    new_positions,new_angles = super().step(positions,angles)\n",
        "    self.particle_velocities.append(self.velocity)\n",
        "    return new_positions,new_angles\n",
        "\n",
        "params = {'box_length':40,'num_particles':1000,'num_steps':500,'len_time_step':1e-3,'disk_radius':0.5,'k':100,'f_active':7,'diffusion':3,'rot_diffusion':3,'frame_length_multiplier':3}\n",
        "\n",
        "sim = contact_velocity_graphing(params)\n",
        "sim.run()\n",
        "sim.make_velocity_plots()"
      ]
    },
    {
      "cell_type": "code",
      "execution_count": null,
      "metadata": {
        "id": "MhxS0_lM-Tay"
      },
      "outputs": [],
      "source": [
        "class yukawa_velocity_graphing(yukawa_simulation):\n",
        "  def __init__(self,params):\n",
        "    super().__init__(params)\n",
        "    self.particle_velocities = []\n",
        "\n",
        "  def step(self,positions,angles):\n",
        "    new_positions,new_angles = super().step(positions,angles)\n",
        "    self.particle_velocities.append(self.velocity)\n",
        "    return new_positions,new_angles\n",
        "\n",
        "params = {'box_length':40,'num_particles':1000,'num_steps':1000,'len_time_step':1e-4,'disk_radius':0.35,'f_active':15,'diffusion':3.5,'rot_diffusion':3.5,'Gamma':500,'Lambda':3.5,'frame_length_multiplier':100}\n",
        "\n",
        "yvgsim = yukawa_velocity_graphing(params)\n",
        "yvgsim.run()\n",
        "yvgsim.make_velocity_plots()"
      ]
    }
  ],
  "metadata": {
    "colab": {
      "provenance": []
    },
    "kernelspec": {
      "display_name": "Python 3",
      "name": "python3"
    },
    "language_info": {
      "name": "python"
    }
  },
  "nbformat": 4,
  "nbformat_minor": 0
}